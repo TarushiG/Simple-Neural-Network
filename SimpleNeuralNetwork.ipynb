{
  "nbformat": 4,
  "nbformat_minor": 0,
  "metadata": {
    "colab": {
      "provenance": []
    },
    "kernelspec": {
      "name": "python3",
      "display_name": "Python 3"
    },
    "language_info": {
      "name": "python"
    }
  },
  "cells": [
    {
      "cell_type": "code",
      "execution_count": 4,
      "metadata": {
        "id": "PlnlAVxD962g"
      },
      "outputs": [],
      "source": [
        "# Mystery Functions take 2 inputs and produces a single output.\n",
        "# I've built here a simple neural network that can mimic my mystery function.\n",
        "# We are using a single neural taking 2 inputs.\n",
        "# Whilst training a neuron to mimic a function, we provide it with examples, examples of both inputs and outputs.\n",
        "# We then train the network.\n",
        "import torch\n",
        "from torch import nn\n",
        "import random"
      ]
    },
    {
      "cell_type": "code",
      "source": [
        "def mystery(a, b):\n",
        "  return torch.tensor(a+3*b) # Converting values to tensors"
      ],
      "metadata": {
        "id": "5x--OVT1KqbK"
      },
      "execution_count": 9,
      "outputs": []
    },
    {
      "cell_type": "code",
      "source": [
        "model = nn.Sequential(nn.Linear(2, 1)) # Simplest way to build a neural network, allows to list the components of a neural network.\n",
        "model"
      ],
      "metadata": {
        "colab": {
          "base_uri": "https://localhost:8080/"
        },
        "id": "Lh_djsXqK2-W",
        "outputId": "74571e59-de69-452e-abf1-ba10e7c73faa"
      },
      "execution_count": 6,
      "outputs": [
        {
          "output_type": "execute_result",
          "data": {
            "text/plain": [
              "Sequential(\n",
              "  (0): Linear(in_features=2, out_features=1, bias=True)\n",
              ")"
            ]
          },
          "metadata": {},
          "execution_count": 6
        }
      ]
    },
    {
      "cell_type": "code",
      "source": [
        "criterion = nn.MSELoss() # Gives a value for how much the neural network is varying from the correct values.\n",
        "optimizer = torch.optim.SGD(model.parameters(), lr = 0.01, momentum = 0.9)"
      ],
      "metadata": {
        "id": "Eu1u8sTwLNVX"
      },
      "execution_count": 7,
      "outputs": []
    },
    {
      "cell_type": "code",
      "source": [
        "for i in range(1000):\n",
        "  a = random.random()\n",
        "  b = random.random()\n",
        "  desiredOutput = mystery(a, b)\n",
        "  output = model(torch.tensor([a, b]))\n",
        "  loss = criterion(output.squeeze(), desiredOutput)\n",
        "  # Tracking the loss through the training process\n",
        "  if(i%100)==0:\n",
        "    print(f\"Loss: {loss.item()}\")\n",
        "  optimizer.zero_grad()\n",
        "  loss.backward()\n",
        "  optimizer.step() # These functions are to update the neural network"
      ],
      "metadata": {
        "colab": {
          "base_uri": "https://localhost:8080/"
        },
        "id": "vYsdExONM4SW",
        "outputId": "3314adf6-38a7-4994-a700-b1a268fd4614"
      },
      "execution_count": 13,
      "outputs": [
        {
          "output_type": "stream",
          "name": "stdout",
          "text": [
            "Loss: 14.15577507019043\n",
            "Loss: 0.0020273893605917692\n",
            "Loss: 0.0025312777142971754\n",
            "Loss: 0.0007283537415787578\n",
            "Loss: 2.6276666176272556e-06\n",
            "Loss: 5.1441684263409115e-06\n",
            "Loss: 5.513874157259124e-07\n",
            "Loss: 1.594099217072653e-07\n",
            "Loss: 1.1141310096718371e-11\n",
            "Loss: 4.604316927725449e-12\n"
          ]
        }
      ]
    },
    {
      "cell_type": "code",
      "source": [
        "a = 3.0\n",
        "b = 5.0\n",
        "output = model(torch.tensor([a, b]))\n",
        "print(output.item()) # Testing"
      ],
      "metadata": {
        "colab": {
          "base_uri": "https://localhost:8080/"
        },
        "id": "0zw-bbQeNx6t",
        "outputId": "99e111ff-763d-40fe-e3ea-d928f365801e"
      },
      "execution_count": 14,
      "outputs": [
        {
          "output_type": "stream",
          "name": "stdout",
          "text": [
            "17.999958038330078\n"
          ]
        }
      ]
    },
    {
      "cell_type": "code",
      "source": [
        "mystery(a, b)"
      ],
      "metadata": {
        "colab": {
          "base_uri": "https://localhost:8080/"
        },
        "id": "cOPBlvIHOCBV",
        "outputId": "c69269c3-03f4-423c-ade9-4eed4fdfc838"
      },
      "execution_count": 15,
      "outputs": [
        {
          "output_type": "execute_result",
          "data": {
            "text/plain": [
              "tensor(18.)"
            ]
          },
          "metadata": {},
          "execution_count": 15
        }
      ]
    }
  ]
}